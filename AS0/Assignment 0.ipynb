{
 "cells": [
  {
   "cell_type": "markdown",
   "metadata": {},
   "source": [
    "Name: Arpit Hasmukhbhai Patel\n",
    "Student ID: A20424085\n",
    "Course Number : CS512\n",
    "Semester : 1st\n",
    "\n",
    "\n",
    "# Assignment 0\n",
    "\n",
    "Question A"
   ]
  },
  {
   "cell_type": "markdown",
   "metadata": {},
   "source": [
    "Q.A-1"
   ]
  },
  {
   "cell_type": "code",
   "execution_count": 1,
   "metadata": {},
   "outputs": [
    {
     "name": "stdout",
     "output_type": "stream",
     "text": [
      "2A-B\n",
      "[[-2]\n",
      " [-1]\n",
      " [ 0]]\n"
     ]
    }
   ],
   "source": [
    "print(\"2A-B\")\n",
    "import numpy as np\n",
    "A= np.array([[1],[2],[3]])\n",
    "B= np.array([[4],[5],[6]])\n",
    "ans = np.subtract(2*A,B)\n",
    "print(ans)"
   ]
  },
  {
   "cell_type": "markdown",
   "metadata": {},
   "source": [
    "Q.A-2"
   ]
  },
  {
   "cell_type": "code",
   "execution_count": 4,
   "metadata": {},
   "outputs": [
    {
     "name": "stdout",
     "output_type": "stream",
     "text": [
      "||A||\n",
      "3.7416573867739413\n"
     ]
    }
   ],
   "source": [
    "print(\"||A||\")\n",
    "n= np.linalg.norm(A)\n",
    "print(n)"
   ]
  },
  {
   "cell_type": "code",
   "execution_count": 7,
   "metadata": {},
   "outputs": [
    {
     "name": "stdout",
     "output_type": "stream",
     "text": [
      "angle to positive x axis \n",
      "[74.49864043]\n"
     ]
    }
   ],
   "source": [
    "print (\"angle to positive x axis \")\n",
    "x =np.degrees(np.arccos(A[0]/n))\n",
    "print (x)"
   ]
  },
  {
   "cell_type": "markdown",
   "metadata": {},
   "source": [
    "Q.A-3"
   ]
  },
  {
   "cell_type": "code",
   "execution_count": 9,
   "metadata": {},
   "outputs": [
    {
     "name": "stdout",
     "output_type": "stream",
     "text": [
      "unit vector\n",
      "[[0.26726124]\n",
      " [0.53452248]\n",
      " [0.80178373]]\n"
     ]
    }
   ],
   "source": [
    "print (\"unit vector\")\n",
    "c= A/n\n",
    "print(c)"
   ]
  },
  {
   "cell_type": "markdown",
   "metadata": {},
   "source": [
    "Q.A-4"
   ]
  },
  {
   "cell_type": "code",
   "execution_count": 10,
   "metadata": {
    "scrolled": true
   },
   "outputs": [
    {
     "name": "stdout",
     "output_type": "stream",
     "text": [
      "the direction of cosine of A is 0.267261, 0.534522, 0.801784\n"
     ]
    }
   ],
   "source": [
    "x1=(A[0]/n)\n",
    "y =(A[1]/n)\n",
    "z =(A[2]/n)\n",
    "print(\"the direction of cosine of A is %f, %f, %f\"%(x1,y,z))"
   ]
  },
  {
   "cell_type": "markdown",
   "metadata": {},
   "source": [
    "Q.A-5"
   ]
  },
  {
   "cell_type": "code",
   "execution_count": 11,
   "metadata": {},
   "outputs": [
    {
     "name": "stdout",
     "output_type": "stream",
     "text": [
      "matrix multiplicaton\n",
      "[32]\n"
     ]
    }
   ],
   "source": [
    "print(\"matrix multiplicaton\")\n",
    "m1= A[0]*B[0] + A[1]*B[1]+A[2]*B[2]\n",
    "print(m1)"
   ]
  },
  {
   "cell_type": "markdown",
   "metadata": {},
   "source": [
    "Q.A-6"
   ]
  },
  {
   "cell_type": "code",
   "execution_count": 13,
   "metadata": {},
   "outputs": [
    {
     "name": "stdout",
     "output_type": "stream",
     "text": [
      "angle between a and b\n",
      "[12.93315449]\n"
     ]
    }
   ],
   "source": [
    "print(\"angle between a and b\")\n",
    "print(np.degrees(np.arccos(m1/n/np.linalg.norm(B))))"
   ]
  },
  {
   "cell_type": "markdown",
   "metadata": {},
   "source": [
    "Q.A-7"
   ]
  },
  {
   "cell_type": "code",
   "execution_count": null,
   "metadata": {},
   "outputs": [],
   "source": [
    "#Suppose new vector (x,y,z)\n",
    "#For perpendicular vector multiplication between A and new vector is Zero\n",
    "#So x+2y+3Z=0\n",
    "#There are many solution for this one of them is x=1, y=-2, z=1"
   ]
  },
  {
   "cell_type": "markdown",
   "metadata": {},
   "source": [
    "Q.A-8"
   ]
  },
  {
   "cell_type": "code",
   "execution_count": 16,
   "metadata": {},
   "outputs": [
    {
     "name": "stdout",
     "output_type": "stream",
     "text": [
      "Cross product\n",
      "A X B\n",
      "[[[-3]]\n",
      "\n",
      " [[ 6]]\n",
      "\n",
      " [[-3]]]\n"
     ]
    }
   ],
   "source": [
    "print(\"Cross product\")\n",
    "print(\"A X B\")\n",
    "c1 = np.array([[B[2]*A[1]-A[2]*B[1]],[A[2]*B[0]-B[2]*A[0]],[B[1]*A[0]-B[0]*A[1]]])\n",
    "print(c1)"
   ]
  },
  {
   "cell_type": "code",
   "execution_count": 17,
   "metadata": {},
   "outputs": [
    {
     "name": "stdout",
     "output_type": "stream",
     "text": [
      "Cross product\n",
      "B X A\n",
      "[[[ 3]]\n",
      "\n",
      " [[-6]]\n",
      "\n",
      " [[ 3]]]\n"
     ]
    }
   ],
   "source": [
    "print(\"Cross product\")\n",
    "print(\"B X A\")\n",
    "c2 = np.array([[B[1]*A[2]-B[2]*A[1]],[B[2]*A[0]-B[0]*A[2]],[B[0]*A[1]-B[1]*A[0]]])\n",
    "print(c2)"
   ]
  },
  {
   "cell_type": "markdown",
   "metadata": {},
   "source": [
    "Q.A-9"
   ]
  },
  {
   "cell_type": "code",
   "execution_count": 18,
   "metadata": {
    "scrolled": true
   },
   "outputs": [
    {
     "name": "stdout",
     "output_type": "stream",
     "text": [
      "vector which is perpendicular to both A and B\n",
      "[[[-3]]\n",
      "\n",
      " [[ 6]]\n",
      "\n",
      " [[-3]]]\n"
     ]
    }
   ],
   "source": [
    "print(\"vector which is perpendicular to both A and B\")\n",
    "print(c1)"
   ]
  },
  {
   "cell_type": "markdown",
   "metadata": {},
   "source": [
    "Q.A-10"
   ]
  },
  {
   "cell_type": "code",
   "execution_count": 20,
   "metadata": {},
   "outputs": [
    {
     "name": "stdout",
     "output_type": "stream",
     "text": [
      "A and B is linear independent\n"
     ]
    }
   ],
   "source": [
    "lin= int(np.linalg.det(A))\n",
    "if(lin==0):\n",
    "    print(\"A and B is linear dependent\")\n",
    "else:\n",
    "    print(\"A and B is linear independent\")"
   ]
  },
  {
   "cell_type": "markdown",
   "metadata": {},
   "source": [
    "Q.A-11"
   ]
  },
  {
   "cell_type": "code",
   "execution_count": 21,
   "metadata": {},
   "outputs": [
    {
     "name": "stdout",
     "output_type": "stream",
     "text": [
      "[[32]]\n"
     ]
    }
   ],
   "source": [
    "h = np.transpose(A)\n",
    "print(np.dot(h,B))"
   ]
  },
  {
   "cell_type": "markdown",
   "metadata": {},
   "source": [
    "# Question B"
   ]
  },
  {
   "cell_type": "markdown",
   "metadata": {},
   "source": [
    "Q.B-1"
   ]
  },
  {
   "cell_type": "code",
   "execution_count": 1,
   "metadata": {},
   "outputs": [
    {
     "name": "stdout",
     "output_type": "stream",
     "text": [
      "[[ 1  2  5]\n",
      " [ 6 -5 10]\n",
      " [-3 12 -3]]\n"
     ]
    }
   ],
   "source": [
    "import numpy as np\n",
    "A = np.array([[1,2,3],[4,-2,3],[0,5,-1]])\n",
    "B = np.array([[1,2,1],[2,1,-4],[3,-2,1]])\n",
    "C = np.array([[1,2,3],[4,5,6],[-1,1,3]])\n",
    "\n",
    "print (np.subtract(2*A,B))"
   ]
  },
  {
   "cell_type": "markdown",
   "metadata": {},
   "source": [
    "Q.B-2"
   ]
  },
  {
   "cell_type": "code",
   "execution_count": 6,
   "metadata": {},
   "outputs": [
    {
     "name": "stdout",
     "output_type": "stream",
     "text": [
      "[[ 14  -2  -4]\n",
      " [  9   0  15]\n",
      " [  7   7 -21]]\n",
      "[[  9   3   8]\n",
      " [  6 -18  13]\n",
      " [ -5  15   2]]\n"
     ]
    }
   ],
   "source": [
    "d1=np.dot(A,B)\n",
    "print(d1)\n",
    "d2=np.dot(B,A)\n",
    "print(d2)"
   ]
  },
  {
   "cell_type": "markdown",
   "metadata": {},
   "source": [
    "Q.B-3"
   ]
  },
  {
   "cell_type": "code",
   "execution_count": 7,
   "metadata": {},
   "outputs": [
    {
     "name": "stdout",
     "output_type": "stream",
     "text": [
      "AB transpose\n",
      "[[ 14   9   7]\n",
      " [ -2   0   7]\n",
      " [ -4  15 -21]]\n",
      "B transpose.A transpose\n",
      "[[ 14   9   7]\n",
      " [ -2   0   7]\n",
      " [ -4  15 -21]]\n"
     ]
    }
   ],
   "source": [
    "print(\"AB transpose\")\n",
    "print(np.transpose(np.dot(A,B)))\n",
    "print(\"B transpose.A transpose\")\n",
    "print(np.dot(np.transpose(B),np.transpose(A)))"
   ]
  },
  {
   "cell_type": "markdown",
   "metadata": {},
   "source": [
    "Q.B-4"
   ]
  },
  {
   "cell_type": "code",
   "execution_count": 10,
   "metadata": {},
   "outputs": [
    {
     "name": "stdout",
     "output_type": "stream",
     "text": [
      "determinant\n",
      "54.999999999999964\n",
      "7.494005416219837e-16\n"
     ]
    }
   ],
   "source": [
    "print(\"determinant\")\n",
    "print(np.linalg.det(A))\n",
    "print(np.linalg.det(C))"
   ]
  },
  {
   "cell_type": "markdown",
   "metadata": {},
   "source": [
    "Q.B-5"
   ]
  },
  {
   "cell_type": "code",
   "execution_count": null,
   "metadata": {},
   "outputs": [],
   "source": [
    "#for matrix A\n",
    "#sum(A[0]*A[1]) not zero\n",
    "#sum(A[1]*A[2]) not zero\n",
    "#sum(A[2]*A[0]) not zero\n",
    "#so A does not have orthogonal set\n",
    "\n",
    "#for Matrix B\n",
    "#sum(B[0]*B[1]) zero\n",
    "#sum(B[1]*B[2]) zero\n",
    "#sum(B[2]*B[0]) zero\n",
    "#SO B is orthogonal\n",
    "\n",
    "#for matrix C\n",
    "#sum(C[0]*C[1]) not zero\n",
    "#sum(C[1]*C[2]) not zero\n",
    "#sum(C[2]*C[0]) not zero\n",
    "#so C does not have orthogonal set"
   ]
  },
  {
   "cell_type": "markdown",
   "metadata": {},
   "source": [
    "Q.B-6"
   ]
  },
  {
   "cell_type": "code",
   "execution_count": 11,
   "metadata": {},
   "outputs": [
    {
     "name": "stdout",
     "output_type": "stream",
     "text": [
      "inverse\n",
      "[[-0.23636364  0.30909091  0.21818182]\n",
      " [ 0.07272727 -0.01818182  0.16363636]\n",
      " [ 0.36363636 -0.09090909 -0.18181818]]\n",
      "[[ 0.16666667  0.0952381   0.21428571]\n",
      " [ 0.33333333  0.04761905 -0.14285714]\n",
      " [ 0.16666667 -0.19047619  0.07142857]]\n"
     ]
    }
   ],
   "source": [
    "print(\"inverse\")\n",
    "print(np.linalg.inv(A))\n",
    "print(np.linalg.inv(B))\n"
   ]
  },
  {
   "cell_type": "markdown",
   "metadata": {},
   "source": [
    "# Question C"
   ]
  },
  {
   "cell_type": "markdown",
   "metadata": {},
   "source": [
    "Q.C-1"
   ]
  },
  {
   "cell_type": "code",
   "execution_count": 12,
   "metadata": {},
   "outputs": [
    {
     "name": "stdout",
     "output_type": "stream",
     "text": [
      "eigan value\n",
      "-1.0\n",
      "4.0\n",
      "eigan vectors\n",
      "[-1.  4.]\n",
      "[[-0.70710678 -0.5547002 ]\n",
      " [ 0.70710678 -0.83205029]]\n"
     ]
    }
   ],
   "source": [
    "import numpy as np\n",
    "A = np.array([[1,2],[3,2]])\n",
    "B = np.array([[2,-2],[-2,5]])\n",
    "w,v = np.linalg.eigvals(A)\n",
    "print(\"eigan value\")\n",
    "print(w)\n",
    "print(v)\n",
    "\n",
    "r,t = np.linalg.eig(A)\n",
    "print(\"eigan vectors\")\n",
    "print(r)\n",
    "print(t)"
   ]
  },
  {
   "cell_type": "markdown",
   "metadata": {},
   "source": [
    "Q.C-2"
   ]
  },
  {
   "cell_type": "code",
   "execution_count": 18,
   "metadata": {},
   "outputs": [
    {
     "name": "stdout",
     "output_type": "stream",
     "text": [
      "[[ 4.0000000e+00  4.4408921e-16]\n",
      " [-3.0000000e+00  2.0000000e+00]]\n"
     ]
    }
   ],
   "source": [
    "V = np.array([[1,1],[1.5,1]])\n",
    "N = np.dot(np.linalg.inv(V),A,V)\n",
    "print(N)\n"
   ]
  },
  {
   "cell_type": "markdown",
   "metadata": {},
   "source": [
    "Q.C-3"
   ]
  },
  {
   "cell_type": "code",
   "execution_count": 13,
   "metadata": {},
   "outputs": [
    {
     "name": "stdout",
     "output_type": "stream",
     "text": [
      "dot product of eiganvectors of A\n",
      "[ 3.53553391 -2.77350098]\n"
     ]
    }
   ],
   "source": [
    "print(\"dot product of eiganvectors of A\")\n",
    "z=np.dot(r,t)\n",
    "print(z)"
   ]
  },
  {
   "cell_type": "markdown",
   "metadata": {},
   "source": [
    "Q.C-4"
   ]
  },
  {
   "cell_type": "code",
   "execution_count": 15,
   "metadata": {},
   "outputs": [
    {
     "name": "stdout",
     "output_type": "stream",
     "text": [
      "eiganvectors of B\n",
      "[1. 6.]\n",
      "[[-0.89442719  0.4472136 ]\n",
      " [-0.4472136  -0.89442719]]\n",
      "dot\n",
      "[-3.57770876 -4.91934955]\n"
     ]
    }
   ],
   "source": [
    "d,f = np.linalg.eig(B)\n",
    "print(\"eiganvectors of B\")\n",
    "print(d)\n",
    "print(f)\n",
    "print(\"dot\")\n",
    "print(np.dot(d,f))"
   ]
  },
  {
   "cell_type": "code",
   "execution_count": null,
   "metadata": {},
   "outputs": [],
   "source": []
  }
 ],
 "metadata": {
  "kernelspec": {
   "display_name": "Python 2",
   "language": "python",
   "name": "python2"
  },
  "language_info": {
   "codemirror_mode": {
    "name": "ipython",
    "version": 2
   },
   "file_extension": ".py",
   "mimetype": "text/x-python",
   "name": "python",
   "nbconvert_exporter": "python",
   "pygments_lexer": "ipython2",
   "version": "2.7.15"
  }
 },
 "nbformat": 4,
 "nbformat_minor": 2
}
